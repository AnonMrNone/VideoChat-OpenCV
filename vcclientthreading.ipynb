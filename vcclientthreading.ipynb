{
 "cells": [
  {
   "cell_type": "code",
   "execution_count": null,
   "metadata": {},
   "outputs": [],
   "source": [
    "import cv2\n",
    "import socket as sk\n",
    "import numpy as np\n",
    "import threading"
   ]
  },
  {
   "cell_type": "code",
   "execution_count": null,
   "metadata": {},
   "outputs": [],
   "source": [
    "def vdisp():\n",
    "    cam = cv2.VideoCapture('https://192.168.0.180:8080/video')\n",
    "    s = sk.socket(sk.AF_INET,sk.SOCK_STREAM)\n",
    "    s.bind((sk.gethostbyname(sk.gethostname()),8888))\n",
    "    s.listen(10)\n",
    "    conn, addr = s.accept()\n",
    "    while True:\n",
    "        data = conn.recv(90456)\n",
    "        nparr = np.fromstring(data, np.uint8)\n",
    "        decimg = cv2.imdecode(nparr, cv2.IMREAD_COLOR)\n",
    "        _, frame = cam.read()\n",
    "        cimg = cv2.resize(frame,(200,150),3)\n",
    "        if type(decimg) is type(None):\n",
    "            pass\n",
    "        else:\n",
    "            decimg[:150,:200] = cimg\n",
    "            cv2.imshow('openvc',decimg)\n",
    "            if cv2.waitKey(1) == 27:\n",
    "                break\n",
    "    cv2.destroyAllWindows()\n",
    "    cam.release()"
   ]
  },
  {
   "cell_type": "code",
   "execution_count": null,
   "metadata": {},
   "outputs": [],
   "source": [
    "def vstream():\n",
    "    cam = cv2.VideoCapture('https://192.168.0.180:8080/video')\n",
    "    s = sk.socket(sk.AF_INET,sk.SOCK_STREAM)\n",
    "    s.connect((sk.gethostbyname(sk.gethostname()),5555))\n",
    "    while True:\n",
    "        _, frame = cam.read()\n",
    "        frame = cv2.resize(frame,(540,430))\n",
    "        encimg = cv2.imencode(\".jpg\",frame)[1].tobytes()\n",
    "        s.sendall(encimg)\n",
    "    cam.release()\n",
    "    cv2.destroyAllWindows()"
   ]
  },
  {
   "cell_type": "code",
   "execution_count": null,
   "metadata": {},
   "outputs": [],
   "source": [
    "disp = threading.Thread(target=vdisp)\n",
    "stream = threading.Thread(target=vstream)\n",
    "disp.start()\n",
    "stream.start()"
   ]
  },
  {
   "cell_type": "code",
   "execution_count": null,
   "metadata": {},
   "outputs": [],
   "source": []
  }
 ],
 "metadata": {
  "kernelspec": {
   "display_name": "Python 3",
   "language": "python",
   "name": "python3"
  },
  "language_info": {
   "codemirror_mode": {
    "name": "ipython",
    "version": 3
   },
   "file_extension": ".py",
   "mimetype": "text/x-python",
   "name": "python",
   "nbconvert_exporter": "python",
   "pygments_lexer": "ipython3",
   "version": "3.7.4"
  }
 },
 "nbformat": 4,
 "nbformat_minor": 2
}
